{
  "nbformat": 4,
  "nbformat_minor": 0,
  "metadata": {
    "colab": {
      "provenance": []
    },
    "kernelspec": {
      "name": "python3",
      "display_name": "Python 3"
    },
    "language_info": {
      "name": "python"
    }
  },
  "cells": [
    {
      "cell_type": "code",
      "execution_count": null,
      "metadata": {
        "id": "U5sD_Ld-WXBK"
      },
      "outputs": [],
      "source": []
    },
    {
      "cell_type": "markdown",
      "source": [
        "1. What are data structures, and why are they important ?\n",
        "  - Data structures are ways of organizing and storing data in a computer so that it can be used efficiently. Think of them like different ways to arrange items in a closet , some ways make it easier to find things quickly, while others might take longer. They are important because choosing the right data structure can make a big difference in how fast and efficiently your computer programs run, especially when dealing with large amounts of data.\n",
        "2.  Explain the difference between mutable and immutable data types with    examples.\n",
        "  - Mutable (Changeable) Containers:\n",
        "\n",
        "   These are like containers you can open up and change what's inside without getting a whole new container.\n",
        "   Example: A shopping bag. You can put things in, take things out, or swap items around, and it's still the same shopping bag.\n",
        "   In programming: Lists, dictionaries, and sets are like this. You can add, remove, or change items inside them after you've created them.\n",
        "  - Immutable (Unchangeable) Containers:\n",
        "\n",
        "   These are like containers that are sealed shut once you put something in. If you want to change what's inside, you have to get a brand new container with the new stuff.\n",
        "   Example: A sealed jar of jam. Once it's sealed, you can't change the jam inside. If you want different jam, you need a new jar.\n",
        "   In programming: Strings, tuples, and numbers are like this. Once you create them, you can't change parts of them directly. If you want a modified version, you create a new string, tuple, or number.\n",
        "   So, the main idea is:\n",
        "   Mutable: You can change the contents of the container.\n",
        "   Immutable: You can't change the contents of the container; you have to make a new one with the changes.\n",
        "3.  What are the main differences between lists and tuples in Python ?\n",
        "   - The main differences between lists and tuples in Python are:\n",
        "   Lists are like mutable (changeable) lists, meaning you can add, remove, or change elements after you've created them. Think of it like a shopping list you can keep adding or crossing off items.\n",
        "   Tuples are like immutable (unchangeable) lists, meaning once you've created them, you cannot change their elements. Think of it like a fixed set of instructions you can't modify.\n",
        "   Here's a simple analogy:\n",
        "   List: A grocery bag where you can add or remove items.\n",
        "   Tuple: A sealed container of pre-selected items you can't change.\n",
        "   Because lists are mutable, they are typically used when you need a collection of items that might change over time. Tuples are used when you need a fixed collection of items that should not be altered.\n",
        "4. Describe how dictionaries store data.\n",
        "   - Dictionaries in Python store data in key-value pairs. Think of it like a real-world dictionary where you look up a word (the key) to find its definition (the value).\n",
        "   Each item in a dictionary has two parts: a unique key and its corresponding value.\n",
        "   You use the key to access or retrieve the value associated with it.\n",
        "   Keys must be unique and immutable (like strings, numbers, or tuples), while values can be anything (even other dictionaries or lists!).\n",
        "5. Why might you use a set instead of a list in Python ?\n",
        "   - You might use a set instead of a list in Python when:\n",
        "\n",
        "  You only care about whether an item exists, not its order or how many times it appears. Sets automatically remove duplicate items, so each item is unique. Lists keep everything, including duplicates, and remember the order.\n",
        "  You need to quickly check if an item is present. Checking for an item in a set is generally much faster than checking in a list, especially for large collections.\n",
        "  You want to easily perform mathematical set operations like finding common items between two collections (intersection) or combining two collections without duplicates (union).\n",
        "6. What is a string in Python, and how is it different from a list ?\n",
        "   - A string in Python is a sequence of characters, like letters, numbers, and symbols. You can think of it as text. Strings are used to represent words, sentences, or any other textual data.\n",
        "   The main differences between a string and a list are:\n",
        "   Type of elements: Strings are made up of characters, while lists can contain any type of data, including numbers, other lists, or even strings.\n",
        "   Mutability: Strings are immutable, meaning you cannot change individual characters within a string after it's created. If you want a modified string, you have to create a new one. Lists, on the other hand, are mutable, so you can add, remove, or change elements within the list.\n",
        "   Purpose: Strings are specifically for working with text, while lists are more general-purpose containers for ordered collections of items.\n",
        "7. How do tuples ensure data integrity in Python ?\n",
        "   - Tuples ensure data integrity because, once you create a tuple, you cannot  change its contents. It's like writing something in permanent marker, you can't erase or alter what's there. This makes them useful for data that shouldn't be accidentally modified.\n",
        "8. What is a hash table, and how does it relate to dictionaries in Python ?\n",
        "   - A hash table, also known as a hash map, is a data structure that stores data in key-value pairs. It uses a hash function to compute an index into an array of buckets or slots, from which the desired value can be found.\n",
        "   In Python, dictionaries are implemented using hash tables. When you create a dictionary and add key-value pairs, Python uses a hash function to determine where to store the value based on the key. This allows for very fast lookups of values based on their keys, on average.\n",
        "9. Can lists contain different data types in Python ?\n",
        "   -  yes, lists in Python can contain different data types! Think of a list   as  a shopping basket where you can put various things like apples (strings),   numbers (integers), and even other small baskets (other lists). You don't have to fill it with only one type of item.\n",
        "10. Explain why strings are immutable in Python ?\n",
        "    - Strings are immutable in Python because, once a string is created, you cannot change individual characters within that string. If you want to modify a string, you have to create a new string with the desired changes. This immutability has some advantages, such as making strings safe to use as keys in dictionaries and improving performance in certain operations.\n",
        "11. What advantages do dictionaries offer over lists for certain tasks ?\n",
        "    - Dictionaries offer several advantages over lists for certain tasks:\n",
        "Fast Lookups: Dictionaries use keys to access values, which is generally much faster than searching for an item by its position in a list, especially in large collections.\n",
        "Descriptive Access: Using keys provides a more descriptive way to access data than using numerical indices as you do with lists. For example, person['name'] is more understandable than person[0].\n",
        "No Specific Order: Dictionaries do not maintain a specific order of elements, which can be beneficial when the order doesn't matter and you prioritize fast lookups. Lists maintain insertion order.\n",
        "Unique Keys: Dictionary keys are unique, preventing duplicate entries, which is useful when you need to store distinct items with associated values. Lists can contain duplicate items.\n",
        "12. Describe a scenario where using a tuple would be preferable over a list.\n",
        "    - Imagine you have a recipe with ingredients that must be used in a specific order and cannot be changed once you start. That fixed list of ingredients is like a tuple. You use a tuple when you have a collection of things that should never change.\n",
        "  Now imagine you have a shopping list for groceries. You can add items, remove items, or change your mind about what you want to buy. That changeable list is like a list. You use a list when you have a collection of things that you might need to change or add to later.\n",
        "13. How do sets handle duplicate values in Python ?\n",
        "    - Sets in Python are designed to automatically handle duplicate values by only storing unique elements. When you add elements to a set, any duplicates are simply ignored. So, if you try to add the same value multiple times, it will only appear once in the set. This makes sets useful for quickly removing duplicates from a collection of data.\n",
        "14. How does the “in” keyword work differently for lists and dictionaries?\n",
        "    - The in keyword is used to check for membership in both lists and dictionaries, but it works differently:\n",
        "  For lists: in checks if an element exists within the list's values. It iterates through the list to see if it finds a matching element.\n",
        "  For dictionaries: in checks if a key exists in the dictionary. It does not check the values.\n",
        "15. Can you modify the elements of a tuple? Explain why or why not.\n",
        "    - No, you cannot modify the elements of a tuple after it has been created. This is because tuples are immutable in Python.\n",
        "16. What is a nested dictionary, and give an example of its use case?\n",
        "    - A nested dictionary is a dictionary where the values are themselves dictionaries. This allows you to create more complex data structures that represent hierarchical or structured data.\n",
        "\n",
        "   Use Case Example:\n",
        "   A common use case for nested dictionaries is representing data like a contact list or a database record where each entry has multiple related pieces of information.\n",
        "   For example, you could have a dictionary where each key is a person's name, and the value associated with that key is another dictionary containing their contact details (phone number, email, address, etc.).\n",
        "17. Describe the time complexity of accessing elements in a dictionary.\n",
        "    - Accessing elements in a dictionary in Python has an average time complexity of O(1). This means that on average, the time it takes to retrieve a value using its key is constant, regardless of how many items are in the dictionary. This is because dictionaries are implemented using hash tables, which allow for very fast lookups. However, in the worst-case scenario (due to hash collisions), the time complexity can degrade to O(n), where n is the number of items in the dictionary. But this worst-case scenario is rare in practice with good hash functions.\n",
        "18. In what situations are lists preferred over dictionaries?\n",
        "    - You would prefer a list over a dictionary when:\n",
        "      You care about the order of elements.\n",
        "      You need to store duplicate items.\n",
        "      You need to access data by numerical index rather than by a key.\n",
        "19. Why are dictionaries considered unordered, and how does that affect  data   retrieval?\n",
        "    -  Dictionaries are considered unordered because, in earlier versions of Python, they did not guarantee to maintain the order in which items were inserted. This meant that when you iterated over a dictionary, the order of the key-value pairs might not be the same as the order in which you added them.\n",
        "   However, starting with Python 3.7, dictionaries do maintain insertion order. So, while historically they were unordered, in modern Python, you can rely on them preserving the order of insertion.\n",
        "   Even when they were unordered, this characteristic primarily affected how you would iterate through the dictionary's items. Accessing a value by its key was still very efficient because it relied on hashing, not on the position of the item within the dictionary.\n",
        "20. Explain the difference between a list and a dictionary in terms of data retrieval.\n",
        "    - The difference between a list and a dictionary in terms of data retrieval is how you access the data:\n",
        "  Lists: You retrieve data by its position or index in the list. For example, you access the first item using index 0, the second using index 1, and so on.\n",
        "   Dictionaries: You retrieve data by its unique key. You provide the key associated with the value you want to retrieve.\n",
        "   Think of a list like a numbered list where you find something by its number, and a dictionary like a phone book where you find someone's number by their name.\n",
        "   "
      ],
      "metadata": {
        "id": "d5TuNGR6cEBh"
      }
    },
    {
      "cell_type": "markdown",
      "source": [
        "PRACTICAL QUESTIONS"
      ],
      "metadata": {
        "id": "a416g-1jx5G9"
      }
    },
    {
      "cell_type": "markdown",
      "source": [
        "1. Write a code to create a string with your name and print it."
      ],
      "metadata": {
        "id": "iCeQKDVeywri"
      }
    },
    {
      "cell_type": "code",
      "source": [
        "name = \"Austin\"\n",
        "print(name)"
      ],
      "metadata": {
        "colab": {
          "base_uri": "https://localhost:8080/"
        },
        "id": "3z7zOVqmy3jE",
        "outputId": "d61a2dd8-e073-452a-98e3-068ddb01a05c"
      },
      "execution_count": 2,
      "outputs": [
        {
          "output_type": "stream",
          "name": "stdout",
          "text": [
            "Austin\n"
          ]
        }
      ]
    },
    {
      "cell_type": "markdown",
      "source": [
        "2. Write a code to find the length of the string \"Hello World\"."
      ],
      "metadata": {
        "id": "lFynYR--z6BK"
      }
    },
    {
      "cell_type": "code",
      "source": [
        "string = \"Hello World\"\n",
        "length = len(string)\n",
        "print(length)"
      ],
      "metadata": {
        "colab": {
          "base_uri": "https://localhost:8080/"
        },
        "id": "rbekdbhD0H9a",
        "outputId": "de287dbe-2a25-4913-ed23-974f17a32815"
      },
      "execution_count": 7,
      "outputs": [
        {
          "output_type": "stream",
          "name": "stdout",
          "text": [
            "11\n"
          ]
        }
      ]
    },
    {
      "cell_type": "markdown",
      "source": [
        "3. Write a code to slice the first 3 characters from the string \"Python  Programming\"."
      ],
      "metadata": {
        "id": "VQ4pGagv1AP_"
      }
    },
    {
      "cell_type": "code",
      "source": [
        "string = \"Python Programming\"\n",
        "sliced_string = string[:3]\n",
        "print(sliced_string)"
      ],
      "metadata": {
        "colab": {
          "base_uri": "https://localhost:8080/"
        },
        "id": "9vmr53S11KQn",
        "outputId": "e7d1f34f-572e-403e-d5a8-a83a50096cd3"
      },
      "execution_count": 8,
      "outputs": [
        {
          "output_type": "stream",
          "name": "stdout",
          "text": [
            "Pyt\n"
          ]
        }
      ]
    },
    {
      "cell_type": "markdown",
      "source": [
        "4. Write a code to convert the string \"hello\" to uppercase."
      ],
      "metadata": {
        "id": "nK063ufa1nc7"
      }
    },
    {
      "cell_type": "code",
      "source": [
        "string = \"hello\"\n",
        "uppercase_string = string.upper()\n",
        "print(uppercase_string)"
      ],
      "metadata": {
        "colab": {
          "base_uri": "https://localhost:8080/"
        },
        "id": "Ig-RanSh15Q1",
        "outputId": "8f8de84e-c6ca-452b-d2e3-679237badc96"
      },
      "execution_count": 10,
      "outputs": [
        {
          "output_type": "stream",
          "name": "stdout",
          "text": [
            "HELLO\n"
          ]
        }
      ]
    },
    {
      "cell_type": "markdown",
      "source": [
        "5. Write a code to replace the word \"apple\" with \"orange\" in the string \"I like apple\"."
      ],
      "metadata": {
        "id": "MRJPBG9j19Xv"
      }
    },
    {
      "cell_type": "code",
      "metadata": {
        "colab": {
          "base_uri": "https://localhost:8080/"
        },
        "id": "93f390d2",
        "outputId": "ddfaf6ce-da59-4d43-ce1e-39b442962d44"
      },
      "source": [
        "string = \"I like apple\"\n",
        "new_string = string.replace(\"apple\", \"orange\")\n",
        "print(new_string)"
      ],
      "execution_count": 11,
      "outputs": [
        {
          "output_type": "stream",
          "name": "stdout",
          "text": [
            "I like orange\n"
          ]
        }
      ]
    },
    {
      "cell_type": "markdown",
      "source": [
        "6.  Write a code to create a list with numbers 1 to 5 and print it."
      ],
      "metadata": {
        "id": "kYhgLv6J2XdR"
      }
    },
    {
      "cell_type": "code",
      "metadata": {
        "colab": {
          "base_uri": "https://localhost:8080/"
        },
        "id": "f0c1ef01",
        "outputId": "1a7a6cd0-1769-404d-9376-b2eacd134670"
      },
      "source": [
        "numbers = [1, 2, 3, 4, 5]\n",
        "print(numbers)"
      ],
      "execution_count": 12,
      "outputs": [
        {
          "output_type": "stream",
          "name": "stdout",
          "text": [
            "[1, 2, 3, 4, 5]\n"
          ]
        }
      ]
    },
    {
      "cell_type": "markdown",
      "source": [
        "7. Write a code to append the number 10 to the list [1, 2, 3, 4]."
      ],
      "metadata": {
        "id": "hIM2qtPC2wwZ"
      }
    },
    {
      "cell_type": "code",
      "metadata": {
        "colab": {
          "base_uri": "https://localhost:8080/"
        },
        "id": "f9c4fc39",
        "outputId": "fda75f72-775f-4282-d33f-d9d9f2068421"
      },
      "source": [
        "numbers = [1, 2, 3, 4]\n",
        "numbers.append(10)\n",
        "print(numbers)"
      ],
      "execution_count": 13,
      "outputs": [
        {
          "output_type": "stream",
          "name": "stdout",
          "text": [
            "[1, 2, 3, 4, 10]\n"
          ]
        }
      ]
    },
    {
      "cell_type": "markdown",
      "source": [
        "8. Write a code to remove the number 3 from the list [1, 2, 3, 4, 5]."
      ],
      "metadata": {
        "id": "RK9anliX3EFf"
      }
    },
    {
      "cell_type": "code",
      "metadata": {
        "colab": {
          "base_uri": "https://localhost:8080/"
        },
        "id": "f29fdebb",
        "outputId": "c1afbd67-6e31-4f75-9ab9-f919eab75cb1"
      },
      "source": [
        "numbers = [1, 2, 3, 4, 5]\n",
        "numbers.remove(3)\n",
        "print(numbers)"
      ],
      "execution_count": 14,
      "outputs": [
        {
          "output_type": "stream",
          "name": "stdout",
          "text": [
            "[1, 2, 4, 5]\n"
          ]
        }
      ]
    },
    {
      "cell_type": "markdown",
      "source": [
        "9. Write a code to access the second element in the list ['a', 'b', 'c', 'd']."
      ],
      "metadata": {
        "id": "3tbPoN_28xtN"
      }
    },
    {
      "cell_type": "code",
      "metadata": {
        "colab": {
          "base_uri": "https://localhost:8080/"
        },
        "id": "9b1fb8e2",
        "outputId": "fb3138fc-d3bc-431e-a538-533f2e41ac4f"
      },
      "source": [
        "my_list = ['a', 'b', 'c', 'd']\n",
        "second_element = my_list[1]\n",
        "print(second_element)"
      ],
      "execution_count": 15,
      "outputs": [
        {
          "output_type": "stream",
          "name": "stdout",
          "text": [
            "b\n"
          ]
        }
      ]
    },
    {
      "cell_type": "markdown",
      "source": [
        "10. Write a code to reverse the list [10, 20, 30, 40, 50]."
      ],
      "metadata": {
        "id": "45hWUdPi8_Sz"
      }
    },
    {
      "cell_type": "code",
      "metadata": {
        "colab": {
          "base_uri": "https://localhost:8080/"
        },
        "id": "68f986e6",
        "outputId": "5288bbe1-fe60-450e-a217-1d911ee5c715"
      },
      "source": [
        "numbers = [10, 20, 30, 40, 50]\n",
        "reversed_numbers = numbers[::-1]\n",
        "print(reversed_numbers)"
      ],
      "execution_count": 16,
      "outputs": [
        {
          "output_type": "stream",
          "name": "stdout",
          "text": [
            "[50, 40, 30, 20, 10]\n"
          ]
        }
      ]
    },
    {
      "cell_type": "markdown",
      "source": [
        "11. Write a code to create a tuple with the elements 100, 200, 300 and print it."
      ],
      "metadata": {
        "id": "1rV8-rmn9UpF"
      }
    },
    {
      "cell_type": "code",
      "metadata": {
        "colab": {
          "base_uri": "https://localhost:8080/"
        },
        "id": "2de991ce",
        "outputId": "76e43522-e794-43e9-f100-a49434c40e2a"
      },
      "source": [
        "my_tuple = (100, 200, 300)\n",
        "print(my_tuple)"
      ],
      "execution_count": 17,
      "outputs": [
        {
          "output_type": "stream",
          "name": "stdout",
          "text": [
            "(100, 200, 300)\n"
          ]
        }
      ]
    },
    {
      "cell_type": "markdown",
      "source": [
        "12. Write a code to access the second-to-last element of the tuple ('red', 'green', 'blue', 'yellow')."
      ],
      "metadata": {
        "id": "BGDJcOPv9wpS"
      }
    },
    {
      "cell_type": "code",
      "metadata": {
        "colab": {
          "base_uri": "https://localhost:8080/"
        },
        "id": "1b2a6faa",
        "outputId": "428c3013-532a-4f61-8b8d-f01d2dc38c9b"
      },
      "source": [
        "my_tuple = ('red', 'green', 'blue', 'yellow')\n",
        "second_to_last_element = my_tuple[-2]\n",
        "print(second_to_last_element)"
      ],
      "execution_count": 20,
      "outputs": [
        {
          "output_type": "stream",
          "name": "stdout",
          "text": [
            "blue\n"
          ]
        }
      ]
    },
    {
      "cell_type": "markdown",
      "source": [
        "13. Write a code to find the minimum number in the tuple (10, 20, 5, 15)."
      ],
      "metadata": {
        "id": "GawcjHtD-Rfp"
      }
    },
    {
      "cell_type": "code",
      "metadata": {
        "colab": {
          "base_uri": "https://localhost:8080/"
        },
        "id": "0736c476",
        "outputId": "9141ee74-6d0b-4588-9a26-3bba13e14ec9"
      },
      "source": [
        "numbers = (10, 20, 5, 15)\n",
        "minimum_number = min(numbers)\n",
        "print(minimum_number)"
      ],
      "execution_count": 21,
      "outputs": [
        {
          "output_type": "stream",
          "name": "stdout",
          "text": [
            "5\n"
          ]
        }
      ]
    },
    {
      "cell_type": "markdown",
      "source": [
        "14. Write a code to find the index of the element \"cat\" in the tuple ('dog', 'cat', 'rabbit')."
      ],
      "metadata": {
        "id": "3341kQQx-ecm"
      }
    },
    {
      "cell_type": "code",
      "metadata": {
        "colab": {
          "base_uri": "https://localhost:8080/"
        },
        "id": "d1b1aad0",
        "outputId": "3988f004-c849-4bc3-af05-587e9379eb25"
      },
      "source": [
        "my_tuple = ('dog', 'cat', 'rabbit')\n",
        "index_of_cat = my_tuple.index('cat')\n",
        "print(index_of_cat)"
      ],
      "execution_count": 22,
      "outputs": [
        {
          "output_type": "stream",
          "name": "stdout",
          "text": [
            "1\n"
          ]
        }
      ]
    },
    {
      "cell_type": "markdown",
      "source": [
        "15.  Write a code to create a tuple containing three different fruits and check if \"kiwi\" is in it."
      ],
      "metadata": {
        "id": "iqCNOX9D-zUg"
      }
    },
    {
      "cell_type": "code",
      "metadata": {
        "colab": {
          "base_uri": "https://localhost:8080/"
        },
        "id": "4b1b0b94",
        "outputId": "fc9f82b9-5f41-457d-b7ae-2321a9401567"
      },
      "source": [
        "fruits = ('apple', 'banana', 'orange')\n",
        "if 'kiwi' in fruits:\n",
        "  print(\"Kiwi is in the tuple.\")\n",
        "else:\n",
        "  print(\"Kiwi is not in the tuple.\")"
      ],
      "execution_count": 23,
      "outputs": [
        {
          "output_type": "stream",
          "name": "stdout",
          "text": [
            "Kiwi is not in the tuple.\n"
          ]
        }
      ]
    },
    {
      "cell_type": "markdown",
      "source": [
        "16. Write a code to create a set with the elements 'a', 'b', 'c' and print it."
      ],
      "metadata": {
        "id": "v9ybeFx5_IzW"
      }
    },
    {
      "cell_type": "code",
      "metadata": {
        "colab": {
          "base_uri": "https://localhost:8080/"
        },
        "id": "93b594c5",
        "outputId": "555d916a-01b4-4329-a614-489cb103ca24"
      },
      "source": [
        "my_set = {'a', 'b', 'c'}\n",
        "print(my_set)"
      ],
      "execution_count": 24,
      "outputs": [
        {
          "output_type": "stream",
          "name": "stdout",
          "text": [
            "{'b', 'a', 'c'}\n"
          ]
        }
      ]
    },
    {
      "cell_type": "markdown",
      "source": [
        " 17. Write a code to clear all elements from the set {1, 2, 3, 4, 5}.\n"
      ],
      "metadata": {
        "id": "z23Do7PkAy3J"
      }
    },
    {
      "cell_type": "code",
      "metadata": {
        "colab": {
          "base_uri": "https://localhost:8080/"
        },
        "id": "cda1fe16",
        "outputId": "6001ac9c-02f5-4671-e7e8-ba59ffd5dc21"
      },
      "source": [
        "my_set = {1, 2, 3, 4, 5}\n",
        "my_set.clear()\n",
        "print(my_set)"
      ],
      "execution_count": 25,
      "outputs": [
        {
          "output_type": "stream",
          "name": "stdout",
          "text": [
            "set()\n"
          ]
        }
      ]
    },
    {
      "cell_type": "markdown",
      "source": [
        "18. Write a code to remove the element 4 from the set {1, 2, 3, 4}."
      ],
      "metadata": {
        "id": "r9FsfPfwBACN"
      }
    },
    {
      "cell_type": "code",
      "metadata": {
        "colab": {
          "base_uri": "https://localhost:8080/"
        },
        "id": "b72a80c2",
        "outputId": "04c0dab8-0169-41e4-b342-79cfcf652682"
      },
      "source": [
        "my_set = {1, 2, 3, 4}\n",
        "my_set.remove(4)\n",
        "print(my_set)"
      ],
      "execution_count": 26,
      "outputs": [
        {
          "output_type": "stream",
          "name": "stdout",
          "text": [
            "{1, 2, 3}\n"
          ]
        }
      ]
    },
    {
      "cell_type": "markdown",
      "source": [
        "19.  Write a code to find the union of two sets {1, 2, 3} and {3, 4, 5}."
      ],
      "metadata": {
        "id": "2At88NE9Bcxg"
      }
    },
    {
      "cell_type": "code",
      "metadata": {
        "colab": {
          "base_uri": "https://localhost:8080/"
        },
        "id": "ba83683c",
        "outputId": "02a814ca-2cb7-44a6-e87c-ad47c95dc746"
      },
      "source": [
        "set1 = {1, 2, 3}\n",
        "set2 = {3, 4, 5}\n",
        "union_set = set1 | set2\n",
        "print(union_set)"
      ],
      "execution_count": 27,
      "outputs": [
        {
          "output_type": "stream",
          "name": "stdout",
          "text": [
            "{1, 2, 3, 4, 5}\n"
          ]
        }
      ]
    },
    {
      "cell_type": "markdown",
      "source": [
        "20.  Write a code to find the intersection of two sets. {1, 2, 3} and {2, 3, 4}"
      ],
      "metadata": {
        "id": "J0NknqQVBtQ4"
      }
    },
    {
      "cell_type": "code",
      "source": [],
      "metadata": {
        "id": "qmu9leQgBy1I"
      },
      "execution_count": null,
      "outputs": []
    },
    {
      "cell_type": "code",
      "metadata": {
        "colab": {
          "base_uri": "https://localhost:8080/"
        },
        "id": "482be65d",
        "outputId": "51659541-844b-4cf2-b693-cb6ce2efe7e7"
      },
      "source": [
        "set1 = {1, 2, 3}\n",
        "set2 = {2, 3, 4}\n",
        "intersection_set = set1 & set2\n",
        "print(intersection_set)"
      ],
      "execution_count": 28,
      "outputs": [
        {
          "output_type": "stream",
          "name": "stdout",
          "text": [
            "{2, 3}\n"
          ]
        }
      ]
    },
    {
      "cell_type": "markdown",
      "source": [
        "21.  Write a code to find the intersection of two sets {1, 2, 3} and {2, 3, 4}."
      ],
      "metadata": {
        "id": "pF_VcfAyB5nK"
      }
    },
    {
      "cell_type": "code",
      "metadata": {
        "colab": {
          "base_uri": "https://localhost:8080/"
        },
        "id": "edc18746",
        "outputId": "4349a51f-1e4c-4dce-a90a-86d18f3ef18b"
      },
      "source": [
        "set1 = {1, 2, 3}\n",
        "set2 = {2, 3, 4}\n",
        "intersection_set = set1 & set2\n",
        "print(intersection_set)"
      ],
      "execution_count": 29,
      "outputs": [
        {
          "output_type": "stream",
          "name": "stdout",
          "text": [
            "{2, 3}\n"
          ]
        }
      ]
    },
    {
      "cell_type": "markdown",
      "source": [
        "22. Write a code to add a new key-value pair \"country\": \"USA\" to the dictionary {'name': 'John', 'age': 25}."
      ],
      "metadata": {
        "id": "5nWeWoSsCCUy"
      }
    },
    {
      "cell_type": "code",
      "metadata": {
        "colab": {
          "base_uri": "https://localhost:8080/"
        },
        "id": "74f7b055",
        "outputId": "81fa60bf-4311-4e43-8af9-f995e1e14a11"
      },
      "source": [
        "my_dict = {'name': 'John', 'age': 25}\n",
        "my_dict['country'] = 'USA'\n",
        "print(my_dict)"
      ],
      "execution_count": 30,
      "outputs": [
        {
          "output_type": "stream",
          "name": "stdout",
          "text": [
            "{'name': 'John', 'age': 25, 'country': 'USA'}\n"
          ]
        }
      ]
    },
    {
      "cell_type": "markdown",
      "source": [
        "23. Write a code to access the value associated with the key \"name\" in the dictionary {'name': 'Alice', 'age': 30}."
      ],
      "metadata": {
        "id": "I2xeqHOECNBN"
      }
    },
    {
      "cell_type": "code",
      "metadata": {
        "colab": {
          "base_uri": "https://localhost:8080/"
        },
        "id": "ad08f670",
        "outputId": "def8f2d2-fd57-48fa-84a7-d710313d75fb"
      },
      "source": [
        "my_dict = {'name': 'Alice', 'age': 30}\n",
        "name_value = my_dict['name']\n",
        "print(name_value)"
      ],
      "execution_count": 31,
      "outputs": [
        {
          "output_type": "stream",
          "name": "stdout",
          "text": [
            "Alice\n"
          ]
        }
      ]
    },
    {
      "cell_type": "markdown",
      "source": [
        "24.  Write a code to remove the key \"age\" from the dictionary {'name': 'Bob', 'age': 22, 'city': 'New York'}."
      ],
      "metadata": {
        "id": "YXJtc57XCYox"
      }
    },
    {
      "cell_type": "code",
      "metadata": {
        "colab": {
          "base_uri": "https://localhost:8080/"
        },
        "id": "ce98296c",
        "outputId": "112c95a6-05b2-4f68-91a4-74162103e3fc"
      },
      "source": [
        "my_dict = {'name': 'Bob', 'age': 22, 'city': 'New York'}\n",
        "del my_dict['age']\n",
        "print(my_dict)"
      ],
      "execution_count": 32,
      "outputs": [
        {
          "output_type": "stream",
          "name": "stdout",
          "text": [
            "{'name': 'Bob', 'city': 'New York'}\n"
          ]
        }
      ]
    },
    {
      "cell_type": "markdown",
      "source": [
        "25.  Write a code to check if the key \"city\" exists in the dictionary {'name': 'Alice', 'city': 'Paris'}."
      ],
      "metadata": {
        "id": "DUjCHgPFCjcS"
      }
    },
    {
      "cell_type": "code",
      "metadata": {
        "colab": {
          "base_uri": "https://localhost:8080/"
        },
        "id": "25972aae",
        "outputId": "c6a54531-c8cb-4f90-f5e0-1f61ca2d8da6"
      },
      "source": [
        "my_dict = {'name': 'Alice', 'city': 'Paris'}\n",
        "if 'city' in my_dict:\n",
        "  print(\"The key 'city' exists in the dictionary.\")\n",
        "else:\n",
        "  print(\"The key 'city' does not exist in the dictionary.\")"
      ],
      "execution_count": 33,
      "outputs": [
        {
          "output_type": "stream",
          "name": "stdout",
          "text": [
            "The key 'city' exists in the dictionary.\n"
          ]
        }
      ]
    },
    {
      "cell_type": "markdown",
      "source": [
        "26.  Write a code to create a list, a tuple, and a dictionary, and print them all."
      ],
      "metadata": {
        "id": "v2jj4KncC2w2"
      }
    },
    {
      "cell_type": "code",
      "metadata": {
        "colab": {
          "base_uri": "https://localhost:8080/"
        },
        "id": "b88d7b4c",
        "outputId": "768d866c-c9ba-4e31-87fe-397706fd9041"
      },
      "source": [
        "my_list = [1, 2, 3, 'a', 'b']\n",
        "my_tuple = (10, 20, 30, 'x', 'y')\n",
        "my_dict = {'name': 'Alice', 'age': 30, 'city': 'Paris'}\n",
        "\n",
        "print(\"My List:\", my_list)\n",
        "print(\"My Tuple:\", my_tuple)\n",
        "print(\"My Dictionary:\", my_dict)"
      ],
      "execution_count": 34,
      "outputs": [
        {
          "output_type": "stream",
          "name": "stdout",
          "text": [
            "My List: [1, 2, 3, 'a', 'b']\n",
            "My Tuple: (10, 20, 30, 'x', 'y')\n",
            "My Dictionary: {'name': 'Alice', 'age': 30, 'city': 'Paris'}\n"
          ]
        }
      ]
    },
    {
      "cell_type": "markdown",
      "source": [
        "27.  Write a code to create a list of 5 random numbers between 1 and 100, sort it in ascending order, and print the result.(replaced)"
      ],
      "metadata": {
        "id": "1GXgc0PeC-Rh"
      }
    },
    {
      "cell_type": "code",
      "metadata": {
        "colab": {
          "base_uri": "https://localhost:8080/"
        },
        "id": "f3146ab4",
        "outputId": "8dd73119-ac0a-450b-d7b2-1c7821a7cf1a"
      },
      "source": [
        "import random\n",
        "\n",
        "# Create a list of 5 random numbers between 1 and 100\n",
        "random_numbers = [random.randint(1, 100) for _ in range(5)]\n",
        "\n",
        "# Sort the list in ascending order\n",
        "random_numbers.sort()\n",
        "\n",
        "# Print the sorted list\n",
        "print(random_numbers)"
      ],
      "execution_count": 35,
      "outputs": [
        {
          "output_type": "stream",
          "name": "stdout",
          "text": [
            "[3, 7, 22, 58, 58]\n"
          ]
        }
      ]
    },
    {
      "cell_type": "markdown",
      "source": [
        "28.  Write a code to create a list with strings and print the element at the third index."
      ],
      "metadata": {
        "id": "cpaW0EMqDR_s"
      }
    },
    {
      "cell_type": "code",
      "metadata": {
        "colab": {
          "base_uri": "https://localhost:8080/"
        },
        "id": "39aedca2",
        "outputId": "bf2478f7-1087-4819-cf56-da7b543d95b2"
      },
      "source": [
        "string_list = [\"apple\", \"banana\", \"cherry\", \"date\", \"elderberry\"]\n",
        "third_element = string_list[3]\n",
        "print(third_element)"
      ],
      "execution_count": 36,
      "outputs": [
        {
          "output_type": "stream",
          "name": "stdout",
          "text": [
            "date\n"
          ]
        }
      ]
    },
    {
      "cell_type": "markdown",
      "source": [
        "29.  Write a code to combine two dictionaries into one and print the result."
      ],
      "metadata": {
        "id": "Z4sYAnujDaFi"
      }
    },
    {
      "cell_type": "code",
      "metadata": {
        "colab": {
          "base_uri": "https://localhost:8080/"
        },
        "id": "87bbb610",
        "outputId": "f1da2e74-a07b-4b31-9b33-8eea5ae28af6"
      },
      "source": [
        "dict1 = {'a': 1, 'b': 2}\n",
        "dict2 = {'c': 3, 'd': 4}\n",
        "\n",
        "combined_dict = {**dict1, **dict2}\n",
        "print(combined_dict)"
      ],
      "execution_count": 37,
      "outputs": [
        {
          "output_type": "stream",
          "name": "stdout",
          "text": [
            "{'a': 1, 'b': 2, 'c': 3, 'd': 4}\n"
          ]
        }
      ]
    },
    {
      "cell_type": "markdown",
      "source": [
        "30. Write a code to convert a list of strings into a set."
      ],
      "metadata": {
        "id": "hXqWOakoDurn"
      }
    },
    {
      "cell_type": "code",
      "metadata": {
        "colab": {
          "base_uri": "https://localhost:8080/"
        },
        "id": "31ecc489",
        "outputId": "cce0db59-2e25-4ea7-e508-ee61aed759f0"
      },
      "source": [
        "string_list = [\"apple\", \"banana\", \"cherry\", \"apple\", \"date\"]\n",
        "string_set = set(string_list)\n",
        "print(string_set)"
      ],
      "execution_count": 38,
      "outputs": [
        {
          "output_type": "stream",
          "name": "stdout",
          "text": [
            "{'date', 'cherry', 'apple', 'banana'}\n"
          ]
        }
      ]
    }
  ]
}